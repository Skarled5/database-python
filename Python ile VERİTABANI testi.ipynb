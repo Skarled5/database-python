{
 "cells": [
  {
   "cell_type": "code",
   "execution_count": 1,
   "id": "26810829",
   "metadata": {},
   "outputs": [
    {
     "name": "stdout",
     "output_type": "stream",
     "text": [
      "Hata: Authentication plugin 'caching_sha2_password' is not supported\n"
     ]
    }
   ],
   "source": [
    "import mysql.connector\n",
    "\n",
    "# Veritabanı bağlantısı kurma\n",
    "try:\n",
    "    connection = mysql.connector.connect(\n",
    "        host=\"localhost\",  # MySQL sunucusunun adresi\n",
    "        user=\"kullanici_adi\",  # MySQL kullanıcı adı\n",
    "        password=\"parola\",  # MySQL kullanıcı parolası\n",
    "        database=\"veritabani_adi\"  # Kullanılacak veritabanının adı\n",
    "    )\n",
    "\n",
    "    if connection.is_connected():\n",
    "        print(\"Veritabanına başarıyla bağlandı.\")\n",
    "\n",
    "        # Veritabanında bir sorgu çalıştırma\n",
    "        cursor = connection.cursor()\n",
    "        cursor.execute(\"SELECT NOW() as current_time\")\n",
    "        result = cursor.fetchone()\n",
    "        print(\"Mevcut zaman:\", result[0])\n",
    "\n",
    "except mysql.connector.Error as error:\n",
    "    print(\"Hata:\", error)\n",
    "\n",
    "finally:\n",
    "    if 'connection' in locals() and connection.is_connected():\n",
    "        cursor.close()\n",
    "        connection.close()\n",
    "        print(\"Veritabanı bağlantısı kapatıldı.\")"
   ]
  },
  {
   "cell_type": "code",
   "execution_count": 1,
   "id": "4b607957",
   "metadata": {},
   "outputs": [
    {
     "name": "stdout",
     "output_type": "stream",
     "text": [
      "Hata: Authentication plugin 'caching_sha2_password' is not supported\n"
     ]
    }
   ],
   "source": [
    "import mysql.connector\n",
    "\n",
    "# MySQL bağlantı bilgilerini ayarlayın\n",
    "config = {\n",
    "    'host': 'localhost',     # MySQL sunucu adresi\n",
    "    'user': 'kullanici_adi', # MySQL kullanıcı adı\n",
    "    'password': 'parola',    # MySQL şifre\n",
    "    'database': 'testdb'     # Kullanılacak veritabanı adı\n",
    "}\n",
    "\n",
    "try:\n",
    "    # MySQL veritabanına bağlanın\n",
    "    cnx = mysql.connector.connect(**config)\n",
    "\n",
    "    # MySQL veritabanı üzerinde işlem yapacak bir cursor oluşturun\n",
    "    cursor = cnx.cursor()\n",
    "\n",
    "    # \"students\" adında bir tablo oluşturun\n",
    "    create_table_query = \"\"\"\n",
    "    CREATE TABLE IF NOT EXISTS students (\n",
    "        id INT AUTO_INCREMENT PRIMARY KEY,\n",
    "        name VARCHAR(255),\n",
    "        grade FLOAT\n",
    "    )\n",
    "    \"\"\"\n",
    "    cursor.execute(create_table_query)\n",
    "    cnx.commit()\n",
    "    print(\"Tablo oluşturuldu.\")\n",
    "\n",
    "    # Veri eklemek için bir SQL sorgusu hazırlayın\n",
    "    insert_query = \"INSERT INTO students (name, grade) VALUES (%s, %s)\"\n",
    "    student_data = [(\"Alice\", 90.5), (\"Bob\", 85.0), (\"Charlie\", 78.5)]\n",
    "\n",
    "    # Veriyi tabloya ekleyin\n",
    "    cursor.executemany(insert_query, student_data)\n",
    "    cnx.commit()\n",
    "    print(\"Veri ekledi.\")\n",
    "\n",
    "    # Veriyi sorgulayın ve sonuçları ekrana yazdırın\n",
    "    select_query = \"SELECT * FROM students\"\n",
    "    cursor.execute(select_query)\n",
    "    results = cursor.fetchall()\n",
    "\n",
    "    print(\"Öğrenci Bilgileri:\")\n",
    "    for row in results:\n",
    "        print(f\"ID: {row[0]}, Ad: {row[1]}, Not: {row[2]}\")\n",
    "\n",
    "except mysql.connector.Error as err:\n",
    "    print(f\"Hata: {err}\")\n",
    "\n",
    "finally:\n",
    "    # Bağlantıyı kapatın\n",
    "    if 'cnx' in locals() and cnx.is_connected():\n",
    "        cursor.close()\n",
    "        cnx.close()\n",
    "        print(\"Bağlantı kapatıldı.\")"
   ]
  },
  {
   "cell_type": "code",
   "execution_count": 3,
   "id": "4c464259",
   "metadata": {},
   "outputs": [
    {
     "name": "stdout",
     "output_type": "stream",
     "text": [
      "Bağlantı gerçekleşti\n",
      "Cursor Oluşturuldu\n"
     ]
    },
    {
     "data": {
      "text/plain": [
       "<function Connection.close>"
      ]
     },
     "execution_count": 3,
     "metadata": {},
     "output_type": "execute_result"
    }
   ],
   "source": [
    "import sqlite3 as sql\n",
    "\n",
    "conn = sql.connect('ders.db')\n",
    "print(\"Bağlantı gerçekleşti\")\n",
    "\n",
    "cursor = conn.cursor() # cursor sayesinde SQL komutlarını python ile oluşturabileceğiz\n",
    "print(\"Cursor Oluşturuldu\")\n",
    "\n",
    "cursor.execute(\"\"\"CREATE TABLE STUDENT(\n",
    "               name text,\n",
    "               lastname text\n",
    "               age integer  \n",
    "              )\"\"\") # tablo oluşturmaya ve kolonları oluşturmaya yarıyor\n",
    "\n",
    "#cursor.execute(\"\"\"INSERT INTO STUDENTS VALUES ('Hakan','Mustafa','20')\"\"\")\n",
    "\n",
    "# --------------------------------------------------------------------------------------------------\n",
    "\n",
    "datas =  [('Burak','Kuşcu',18),('Hakan','Polat',20)]\n",
    "\n",
    "add_command = \"INSERT INTO STUDENTS VALUES (?,?,?)\"\n",
    "\n",
    "cursor.executemany(add_command,datas)\n",
    "print(\"Eklemeler Başarılı\")\n",
    "\n",
    "# ---------------------------------------------------------------------------------------------------\n",
    "\n",
    "cursor.execute(\" UPDATE STUDENTS SET lastname ='Deği' WHERE name='Hakan' AND lastname='Polat' \") # SQL komutu WHERE sayesinde name='Hakan' ve lastname='Polat'  olanları soy ismini Deği yapar SET sayesinde değiştiriliyor\n",
    "print(\"Günceleme Başarılı\")\n",
    "\n",
    "cursor.execute(\" UPDATE STUDENTS SET lastname ='Deği' WHERE rowid = 1 \") # id alarakta yapabiliriz böyle daha iyi !\n",
    "print(\"Günceleme Başarılı\")\n",
    "\n",
    "cursor.execute(\" UPDATE STUDENTS SET age+=1 WHERE age > 30 \") # yaşı 30 dan büyük olanların yaşını 1  artırıyoruz\n",
    "print(\"Günceleme Başarılı\")\n",
    "\n",
    "cursor.execute(\" DELETE from STUDENTS WHERE lastname='Kuşcu' \")\n",
    "print(\"Silme işleme başarılı\")\n",
    "\n",
    "cursor.execute(\"SELECT name,lastname from STUDENT\")\n",
    "liste_all = cursor.fetchall() # fetchall() yöntemi sorgunun sonuçlarını bir liste şeklinde getirir\n",
    "\n",
    "for student in liste_all:\n",
    "    print(student)\n",
    "\n",
    "cursor.execute(\"DROP TABLE IF EXISTS STUDENT\") # IF EXISTS eğer varsa analamına gelir !\n",
    "print(\"tablo silindi\")\n",
    "\n",
    "#  DROP, veritabanı nesnelerini silmek için kullanılırken, DELETE yalnızca tablo içindeki verileri silmek için kullanılır(yani kolonları silmez)\n",
    "\n",
    "\n",
    "\n",
    "\n",
    "conn.commit\n",
    "conn.close\n"
   ]
  },
  {
   "cell_type": "code",
   "execution_count": 1,
   "id": "eda25850",
   "metadata": {},
   "outputs": [
    {
     "ename": "NameError",
     "evalue": "name 'sqlite3' is not defined",
     "output_type": "error",
     "traceback": [
      "\u001b[1;31m---------------------------------------------------------------------------\u001b[0m",
      "\u001b[1;31mNameError\u001b[0m                                 Traceback (most recent call last)",
      "Input \u001b[1;32mIn [1]\u001b[0m, in \u001b[0;36m<cell line: 1>\u001b[1;34m()\u001b[0m\n\u001b[1;32m----> 1\u001b[0m conn \u001b[38;5;241m=\u001b[39m \u001b[43msqlite3\u001b[49m\u001b[38;5;241m.\u001b[39mconnect(\u001b[38;5;124m'\u001b[39m\u001b[38;5;124mders.db\u001b[39m\u001b[38;5;124m'\u001b[39m)\n\u001b[0;32m      2\u001b[0m \u001b[38;5;28mprint\u001b[39m(\u001b[38;5;124m\"\u001b[39m\u001b[38;5;124mBağlantı gerçekleşti\u001b[39m\u001b[38;5;124m\"\u001b[39m)\n\u001b[0;32m      4\u001b[0m cursor \u001b[38;5;241m=\u001b[39m conn\u001b[38;5;241m.\u001b[39mcursor() \u001b[38;5;66;03m# cursor sayesinde SQL komutlarını python ile oluşturabileceğiz\u001b[39;00m\n",
      "\u001b[1;31mNameError\u001b[0m: name 'sqlite3' is not defined"
     ]
    }
   ],
   "source": [
    "conn = sql.connect('ders.db')\n",
    "print(\"Bağlantı gerçekleşti\")\n",
    "\n",
    "cursor = conn.cursor() # cursor sayesinde SQL komutlarını python ile oluşturabileceğiz\n",
    "\n",
    "cursor.execute(\" SELECT*from STUDENT WHERE NOT age >= 40 \")\n",
    "liste_all = cursor.fetchall() # fetchall() yöntemi sorgunun sonuçlarını bir liste şeklinde getirir\n",
    "\n",
    "for student in liste_all:\n",
    "    print(student)\n",
    "    \n",
    "\n",
    "conn.commit\n",
    "conn.close"
   ]
  },
  {
   "cell_type": "code",
   "execution_count": 2,
   "id": "d01dbd39",
   "metadata": {},
   "outputs": [],
   "source": [
    "import sqlite3 as sql\n",
    "def print_all():\n",
    "    conn = sql.connect('ders.db')\n",
    "    cursor = conn.cursor()\n",
    "    \n",
    "    cursor.execute(\"SELECT*from STUDENT\") # SELECT veri sorgulamak veya çekmek için kullanılır SELECT*from bütün verileri alır\n",
    "    list_all = cursor.fetchall()\n",
    "    \n",
    "    for satir in list_all:\n",
    "        print(satir)\n",
    "    \n",
    "    conn.close()\n",
    "    \n",
    "print_all()"
   ]
  },
  {
   "cell_type": "code",
   "execution_count": 4,
   "id": "d9515207",
   "metadata": {},
   "outputs": [
    {
     "ename": "OperationalError",
     "evalue": "no such column: age",
     "output_type": "error",
     "traceback": [
      "\u001b[1;31m---------------------------------------------------------------------------\u001b[0m",
      "\u001b[1;31mOperationalError\u001b[0m                          Traceback (most recent call last)",
      "Input \u001b[1;32mIn [4]\u001b[0m, in \u001b[0;36m<cell line: 4>\u001b[1;34m()\u001b[0m\n\u001b[0;32m      1\u001b[0m conn \u001b[38;5;241m=\u001b[39m sql\u001b[38;5;241m.\u001b[39mconnect(\u001b[38;5;124m'\u001b[39m\u001b[38;5;124mders.db\u001b[39m\u001b[38;5;124m'\u001b[39m)\n\u001b[0;32m      2\u001b[0m cursor \u001b[38;5;241m=\u001b[39m conn\u001b[38;5;241m.\u001b[39mcursor()\n\u001b[1;32m----> 4\u001b[0m \u001b[43mcursor\u001b[49m\u001b[38;5;241;43m.\u001b[39;49m\u001b[43mexecute\u001b[49m\u001b[43m(\u001b[49m\u001b[38;5;124;43m\"\u001b[39;49m\u001b[38;5;124;43mSELECT*from STUDENT ORDER BY age,name DESC\u001b[39;49m\u001b[38;5;124;43m\"\u001b[39;49m\u001b[43m)\u001b[49m \u001b[38;5;66;03m# burada iki kritarli sıralama var age ve name DESC ise büyükten küçüğe sıralama sağlar DESC yazmasaydık küçüktendi\u001b[39;00m\n\u001b[0;32m      5\u001b[0m butun_liste \u001b[38;5;241m=\u001b[39m cursor\u001b[38;5;241m.\u001b[39mfetchall()\n\u001b[0;32m      7\u001b[0m \u001b[38;5;28;01mfor\u001b[39;00m i \u001b[38;5;129;01min\u001b[39;00m butun_liste:\n",
      "\u001b[1;31mOperationalError\u001b[0m: no such column: age"
     ]
    }
   ],
   "source": [
    "conn = sql.connect('ders.db')\n",
    "cursor = conn.cursor()\n",
    "\n",
    "cursor.execute(\"SELECT*from STUDENT ORDER BY age,name DESC\") # burada iki kritarli sıralama var age ve name DESC ise büyükten küçüğe sıralama sağlar DESC yazmasaydık küçüktendi\n",
    "butun_liste = cursor.fetchall()\n",
    "\n",
    "for i in butun_liste:\n",
    "    print(i)\n",
    "\n",
    "conn.close()\n",
    "\n"
   ]
  },
  {
   "cell_type": "code",
   "execution_count": 10,
   "id": "eaa4bd49",
   "metadata": {},
   "outputs": [
    {
     "ename": "TypeError",
     "evalue": "'builtin_function_or_method' object is not iterable",
     "output_type": "error",
     "traceback": [
      "\u001b[1;31m---------------------------------------------------------------------------\u001b[0m",
      "\u001b[1;31mTypeError\u001b[0m                                 Traceback (most recent call last)",
      "Input \u001b[1;32mIn [10]\u001b[0m, in \u001b[0;36m<cell line: 19>\u001b[1;34m()\u001b[0m\n\u001b[0;32m     17\u001b[0m cursor\u001b[38;5;241m.\u001b[39mexecute(\u001b[38;5;124m\"\u001b[39m\u001b[38;5;124mSELECT*FROM CALISANLAR\u001b[39m\u001b[38;5;124m\"\u001b[39m)\n\u001b[0;32m     18\u001b[0m listemm \u001b[38;5;241m=\u001b[39m cursor\u001b[38;5;241m.\u001b[39mfetchall\n\u001b[1;32m---> 19\u001b[0m \u001b[38;5;28;01mfor\u001b[39;00m i \u001b[38;5;129;01min\u001b[39;00m listemm:\n\u001b[0;32m     20\u001b[0m     \u001b[38;5;28mprint\u001b[39m(i)\n\u001b[0;32m     24\u001b[0m conn\u001b[38;5;241m.\u001b[39mcommit()\n",
      "\u001b[1;31mTypeError\u001b[0m: 'builtin_function_or_method' object is not iterable"
     ]
    }
   ],
   "source": [
    "import sqlite3 as sql\n",
    "conn = sql.connect('calisan.db')\n",
    "cursor = conn.cursor()\n",
    "cursor.execute(\"\"\"CREATE TABLE CALISANLAR(\n",
    "id integer PRIMARY KEY,\n",
    "ad text,\n",
    "soyad text,\n",
    "maas integer\n",
    ")\"\"\")\n",
    "\n",
    "veriler = [('Ali','Demirci',17000),('Cafer','Yilmaz',23000),('Sedef','Kesmez',35000),('Veli','Cakmak',70000)]\n",
    "\n",
    "add = \"INSERT INTO CALISANLAR (ad,soyad,maas) VALUES(?,?,?)\"\n",
    "cursor.executemany(add,veriler)\n",
    "print(\"Eklemeler Başarılı!\")\n",
    "\n",
    "cursor.execute(\"SELECT*FROM CALISANLAR\")\n",
    "listemm = cursor.fetchall\n",
    "for i in listemm:\n",
    "    print(i)\n",
    "\n",
    "\n",
    "\n",
    "conn.commit()\n",
    "conn.close()"
   ]
  },
  {
   "cell_type": "code",
   "execution_count": null,
   "id": "bce35956",
   "metadata": {},
   "outputs": [],
   "source": []
  }
 ],
 "metadata": {
  "kernelspec": {
   "display_name": "Python 3 (ipykernel)",
   "language": "python",
   "name": "python3"
  },
  "language_info": {
   "codemirror_mode": {
    "name": "ipython",
    "version": 3
   },
   "file_extension": ".py",
   "mimetype": "text/x-python",
   "name": "python",
   "nbconvert_exporter": "python",
   "pygments_lexer": "ipython3",
   "version": "3.9.12"
  }
 },
 "nbformat": 4,
 "nbformat_minor": 5
}
